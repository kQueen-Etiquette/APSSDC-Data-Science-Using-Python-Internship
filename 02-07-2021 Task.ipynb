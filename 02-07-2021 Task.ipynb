{
 "cells": [
  {
   "cell_type": "markdown",
   "id": "49306eff",
   "metadata": {},
   "source": [
    "# Apply linear and polynomial regression to the below dataset and check the accuracy and mean squared error for the models"
   ]
  },
  {
   "cell_type": "code",
   "execution_count": 1,
   "id": "d95d1f07",
   "metadata": {},
   "outputs": [
    {
     "data": {
      "text/html": [
       "<div>\n",
       "<style scoped>\n",
       "    .dataframe tbody tr th:only-of-type {\n",
       "        vertical-align: middle;\n",
       "    }\n",
       "\n",
       "    .dataframe tbody tr th {\n",
       "        vertical-align: top;\n",
       "    }\n",
       "\n",
       "    .dataframe thead th {\n",
       "        text-align: right;\n",
       "    }\n",
       "</style>\n",
       "<table border=\"1\" class=\"dataframe\">\n",
       "  <thead>\n",
       "    <tr style=\"text-align: right;\">\n",
       "      <th></th>\n",
       "      <th>Gender</th>\n",
       "      <th>Age Range</th>\n",
       "      <th>Head Size(cm^3)</th>\n",
       "      <th>Brain Weight(grams)</th>\n",
       "    </tr>\n",
       "  </thead>\n",
       "  <tbody>\n",
       "    <tr>\n",
       "      <th>0</th>\n",
       "      <td>1</td>\n",
       "      <td>1</td>\n",
       "      <td>4512</td>\n",
       "      <td>1530</td>\n",
       "    </tr>\n",
       "    <tr>\n",
       "      <th>1</th>\n",
       "      <td>1</td>\n",
       "      <td>1</td>\n",
       "      <td>3738</td>\n",
       "      <td>1297</td>\n",
       "    </tr>\n",
       "    <tr>\n",
       "      <th>2</th>\n",
       "      <td>1</td>\n",
       "      <td>1</td>\n",
       "      <td>4261</td>\n",
       "      <td>1335</td>\n",
       "    </tr>\n",
       "    <tr>\n",
       "      <th>3</th>\n",
       "      <td>1</td>\n",
       "      <td>1</td>\n",
       "      <td>3777</td>\n",
       "      <td>1282</td>\n",
       "    </tr>\n",
       "    <tr>\n",
       "      <th>4</th>\n",
       "      <td>1</td>\n",
       "      <td>1</td>\n",
       "      <td>4177</td>\n",
       "      <td>1590</td>\n",
       "    </tr>\n",
       "    <tr>\n",
       "      <th>...</th>\n",
       "      <td>...</td>\n",
       "      <td>...</td>\n",
       "      <td>...</td>\n",
       "      <td>...</td>\n",
       "    </tr>\n",
       "    <tr>\n",
       "      <th>232</th>\n",
       "      <td>2</td>\n",
       "      <td>2</td>\n",
       "      <td>3214</td>\n",
       "      <td>1110</td>\n",
       "    </tr>\n",
       "    <tr>\n",
       "      <th>233</th>\n",
       "      <td>2</td>\n",
       "      <td>2</td>\n",
       "      <td>3394</td>\n",
       "      <td>1215</td>\n",
       "    </tr>\n",
       "    <tr>\n",
       "      <th>234</th>\n",
       "      <td>2</td>\n",
       "      <td>2</td>\n",
       "      <td>3233</td>\n",
       "      <td>1104</td>\n",
       "    </tr>\n",
       "    <tr>\n",
       "      <th>235</th>\n",
       "      <td>2</td>\n",
       "      <td>2</td>\n",
       "      <td>3352</td>\n",
       "      <td>1170</td>\n",
       "    </tr>\n",
       "    <tr>\n",
       "      <th>236</th>\n",
       "      <td>2</td>\n",
       "      <td>2</td>\n",
       "      <td>3391</td>\n",
       "      <td>1120</td>\n",
       "    </tr>\n",
       "  </tbody>\n",
       "</table>\n",
       "<p>237 rows × 4 columns</p>\n",
       "</div>"
      ],
      "text/plain": [
       "     Gender  Age Range  Head Size(cm^3)  Brain Weight(grams)\n",
       "0         1          1             4512                 1530\n",
       "1         1          1             3738                 1297\n",
       "2         1          1             4261                 1335\n",
       "3         1          1             3777                 1282\n",
       "4         1          1             4177                 1590\n",
       "..      ...        ...              ...                  ...\n",
       "232       2          2             3214                 1110\n",
       "233       2          2             3394                 1215\n",
       "234       2          2             3233                 1104\n",
       "235       2          2             3352                 1170\n",
       "236       2          2             3391                 1120\n",
       "\n",
       "[237 rows x 4 columns]"
      ]
     },
     "execution_count": 1,
     "metadata": {},
     "output_type": "execute_result"
    }
   ],
   "source": [
    "import pandas as pd\n",
    "import numpy as np\n",
    "df = pd.read_csv('https://raw.githubusercontent.com/AP-State-Skill-Development-Corporation/Datasets/master/Regression/headbrain.csv')\n",
    "df"
   ]
  },
  {
   "cell_type": "code",
   "execution_count": 2,
   "id": "9d67b345",
   "metadata": {},
   "outputs": [
    {
     "data": {
      "text/plain": [
       "Gender                 0\n",
       "Age Range              0\n",
       "Head Size(cm^3)        0\n",
       "Brain Weight(grams)    0\n",
       "dtype: int64"
      ]
     },
     "execution_count": 2,
     "metadata": {},
     "output_type": "execute_result"
    }
   ],
   "source": [
    "df.isnull().sum()"
   ]
  },
  {
   "cell_type": "code",
   "execution_count": 3,
   "id": "23d5b9bf",
   "metadata": {},
   "outputs": [
    {
     "data": {
      "text/plain": [
       "0      False\n",
       "1      False\n",
       "2      False\n",
       "3      False\n",
       "4      False\n",
       "       ...  \n",
       "232    False\n",
       "233    False\n",
       "234    False\n",
       "235    False\n",
       "236    False\n",
       "Length: 237, dtype: bool"
      ]
     },
     "execution_count": 3,
     "metadata": {},
     "output_type": "execute_result"
    }
   ],
   "source": [
    "df.duplicated()"
   ]
  },
  {
   "cell_type": "code",
   "execution_count": 4,
   "id": "b4dcd055",
   "metadata": {},
   "outputs": [],
   "source": [
    "x = df[df.columns[:-1]]\n",
    "y = df['Brain Weight(grams)']"
   ]
  },
  {
   "cell_type": "markdown",
   "id": "9863bb80",
   "metadata": {},
   "source": [
    "# Linear Regression"
   ]
  },
  {
   "cell_type": "code",
   "execution_count": 5,
   "id": "510c33a9",
   "metadata": {},
   "outputs": [
    {
     "data": {
      "text/plain": [
       "LinearRegression()"
      ]
     },
     "execution_count": 5,
     "metadata": {},
     "output_type": "execute_result"
    }
   ],
   "source": [
    "from sklearn.linear_model import LinearRegression\n",
    "from sklearn.metrics import r2_score, mean_squared_error\n",
    "from sklearn.model_selection import train_test_split\n",
    "from sklearn.preprocessing import PolynomialFeatures\n",
    "\n",
    "x_train, x_test, y_train, y_test = train_test_split(x, y, test_size = 0.2, random_state = 42)\n",
    "model = LinearRegression()\n",
    "model.fit(x_train, y_train)"
   ]
  },
  {
   "cell_type": "code",
   "execution_count": 6,
   "id": "a90b0681",
   "metadata": {},
   "outputs": [
    {
     "data": {
      "text/plain": [
       "array([1242.28994947, 1359.42439666, 1247.9247648 , 1215.51057307,\n",
       "       1336.86029246, 1163.71797457, 1385.70785868, 1070.38741752,\n",
       "       1260.14286707, 1198.5812842 , 1376.96115705, 1202.64725323,\n",
       "       1337.35620684, 1274.45618401, 1265.84588242, 1255.77829168,\n",
       "       1575.39510821, 1275.69596996, 1195.17808357, 1495.30493619,\n",
       "       1203.78838517, 1217.49423058, 1259.18149231, 1161.88362024,\n",
       "       1252.05893385, 1170.56212185, 1269.34773705, 1473.13809236,\n",
       "       1216.25444463, 1495.056979  , 1379.16231776, 1286.95269747,\n",
       "       1191.39052572, 1165.7698321 , 1473.13809236, 1333.29023781,\n",
       "       1239.59287438, 1120.72272688, 1213.52691556, 1380.65006089,\n",
       "       1180.30065224, 1398.60163251, 1265.44862205, 1341.47282504,\n",
       "       1284.47312558, 1216.53285581, 1225.03160026, 1149.30600362])"
      ]
     },
     "execution_count": 6,
     "metadata": {},
     "output_type": "execute_result"
    }
   ],
   "source": [
    "predicted = model.predict(x_test)\n",
    "predicted"
   ]
  },
  {
   "cell_type": "code",
   "execution_count": 7,
   "id": "3cdfbafc",
   "metadata": {},
   "outputs": [
    {
     "name": "stdout",
     "output_type": "stream",
     "text": [
      "73.45676369778609\n"
     ]
    }
   ],
   "source": [
    "print(r2_score(y_test, predicted)*100)"
   ]
  },
  {
   "cell_type": "code",
   "execution_count": 8,
   "id": "728acbce",
   "metadata": {},
   "outputs": [
    {
     "name": "stdout",
     "output_type": "stream",
     "text": [
      "65.9545256771439\n"
     ]
    }
   ],
   "source": [
    "print(np.sqrt(mean_squared_error(y_test, predicted)))"
   ]
  },
  {
   "cell_type": "markdown",
   "id": "3988995a",
   "metadata": {},
   "source": [
    "# Polynomial Regression"
   ]
  },
  {
   "cell_type": "code",
   "execution_count": 9,
   "id": "5483eb52",
   "metadata": {},
   "outputs": [],
   "source": [
    "poly = PolynomialFeatures(degree = 5)\n",
    "x_poly = poly.fit_transform(x)\n",
    "x_train1, x_test1, y_train1, y_test1 = train_test_split(x_poly, y, test_size = 0.2, random_state = 42)"
   ]
  },
  {
   "cell_type": "code",
   "execution_count": 10,
   "id": "a49d85c8",
   "metadata": {},
   "outputs": [
    {
     "data": {
      "text/plain": [
       "LinearRegression()"
      ]
     },
     "execution_count": 10,
     "metadata": {},
     "output_type": "execute_result"
    }
   ],
   "source": [
    "poly_model = LinearRegression()\n",
    "poly_model.fit(x_train1, y_train1)"
   ]
  },
  {
   "cell_type": "code",
   "execution_count": 11,
   "id": "9b4a4233",
   "metadata": {},
   "outputs": [
    {
     "data": {
      "text/plain": [
       "array([1234.84487393, 1350.16623986, 1260.49548473, 1200.58549201,\n",
       "       1331.53879237, 1150.35201861, 1375.72394465, 1050.51465161,\n",
       "       1257.55928873, 1200.24853768, 1353.16097445, 1204.11064187,\n",
       "       1331.9155361 , 1292.93695052, 1264.79693515, 1285.87629809,\n",
       "       1571.63750539, 1294.42597281, 1174.23675001, 1510.57303126,\n",
       "       1206.48828213, 1203.13560043, 1268.72065598, 1157.30914566,\n",
       "       1284.29308568, 1167.31076868, 1278.94764585, 1404.64800094,\n",
       "       1201.54210557, 1510.27280885, 1394.53315078, 1295.65643961,\n",
       "       1191.6931714 , 1241.55960468, 1404.64800094, 1347.71026904,\n",
       "       1247.85684534, 1110.45724515, 1198.03252586, 1395.78330167,\n",
       "       1154.58820847, 1389.71119216, 1290.0964759 , 1356.98030339,\n",
       "       1293.38278752, 1221.27439129, 1272.96675347, 1111.85535641])"
      ]
     },
     "execution_count": 11,
     "metadata": {},
     "output_type": "execute_result"
    }
   ],
   "source": [
    "predicted1 = poly_model.predict(x_test1)\n",
    "predicted1"
   ]
  },
  {
   "cell_type": "code",
   "execution_count": 12,
   "id": "6f20937f",
   "metadata": {},
   "outputs": [
    {
     "name": "stdout",
     "output_type": "stream",
     "text": [
      "72.06163714286187\n"
     ]
    }
   ],
   "source": [
    "print(r2_score(y_test1, predicted1)*100)"
   ]
  },
  {
   "cell_type": "code",
   "execution_count": 13,
   "id": "fb252855",
   "metadata": {},
   "outputs": [
    {
     "name": "stdout",
     "output_type": "stream",
     "text": [
      "67.66563183874067\n"
     ]
    }
   ],
   "source": [
    "print(np.sqrt(mean_squared_error(y_test1, predicted1)))"
   ]
  },
  {
   "cell_type": "code",
   "execution_count": null,
   "id": "6deb3ef6",
   "metadata": {},
   "outputs": [],
   "source": []
  }
 ],
 "metadata": {
  "kernelspec": {
   "display_name": "Python 3",
   "language": "python",
   "name": "python3"
  },
  "language_info": {
   "codemirror_mode": {
    "name": "ipython",
    "version": 3
   },
   "file_extension": ".py",
   "mimetype": "text/x-python",
   "name": "python",
   "nbconvert_exporter": "python",
   "pygments_lexer": "ipython3",
   "version": "3.7.4"
  }
 },
 "nbformat": 4,
 "nbformat_minor": 5
}
