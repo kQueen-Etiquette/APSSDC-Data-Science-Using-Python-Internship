{
 "cells": [
  {
   "cell_type": "markdown",
   "id": "b6518521",
   "metadata": {},
   "source": [
    "# Day 4"
   ]
  },
  {
   "cell_type": "markdown",
   "id": "84ac693c",
   "metadata": {},
   "source": [
    "## Task\n",
    "- take input from the user.\n",
    "- check the length of the string even or odd\n",
    "- if the string length is odd access one middle character\n",
    "- if the string length is even access two middle characters"
   ]
  },
  {
   "cell_type": "code",
   "execution_count": 13,
   "id": "24ccf247",
   "metadata": {},
   "outputs": [
    {
     "name": "stdout",
     "output_type": "stream",
     "text": [
      "srilahari\n",
      "Length of string is 9\n",
      "a\n"
     ]
    }
   ],
   "source": [
    "string = str(input())\n",
    "print(\"Length of string is {}\".format(len(string)))\n",
    "if len(string) % 2 == 0:\n",
    "    print(string[len(string)//2-1], string[len(string)//2])\n",
    "else:\n",
    "    print(string[len(string)//2])"
   ]
  },
  {
   "cell_type": "code",
   "execution_count": 14,
   "id": "9b70e0e8",
   "metadata": {},
   "outputs": [
    {
     "name": "stdout",
     "output_type": "stream",
     "text": [
      "lahari\n",
      "Length of string is 6\n",
      "h a\n"
     ]
    }
   ],
   "source": [
    "string = str(input())\n",
    "print(\"Length of string is {}\".format(len(string)))\n",
    "if len(string) % 2 == 0:\n",
    "    print(string[len(string)//2-1], string[len(string)//2])\n",
    "else:\n",
    "    print(string[len(string)//2])"
   ]
  }
 ],
 "metadata": {
  "kernelspec": {
   "display_name": "Python 3",
   "language": "python",
   "name": "python3"
  },
  "language_info": {
   "codemirror_mode": {
    "name": "ipython",
    "version": 3
   },
   "file_extension": ".py",
   "mimetype": "text/x-python",
   "name": "python",
   "nbconvert_exporter": "python",
   "pygments_lexer": "ipython3",
   "version": "3.7.6"
  }
 },
 "nbformat": 4,
 "nbformat_minor": 5
}
