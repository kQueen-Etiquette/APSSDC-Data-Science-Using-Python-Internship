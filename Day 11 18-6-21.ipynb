{
 "cells": [
  {
   "cell_type": "markdown",
   "id": "b479734b",
   "metadata": {},
   "source": [
    "# Day 11"
   ]
  },
  {
   "cell_type": "markdown",
   "id": "4d84fdbe",
   "metadata": {},
   "source": [
    "# Task 1 - Write a program for getting the last five lines from the file"
   ]
  },
  {
   "cell_type": "code",
   "execution_count": 3,
   "id": "3e18307c",
   "metadata": {},
   "outputs": [
    {
     "name": "stdout",
     "output_type": "stream",
     "text": [
      "Thailand\n",
      "\n",
      "Bangkok\n",
      "\n",
      "Singapore\n",
      "\n",
      "New York\n",
      "\n",
      "New Orleans\n"
     ]
    },
    {
     "data": {
      "text/plain": [
       "<function TextIOWrapper.close()>"
      ]
     },
     "execution_count": 3,
     "metadata": {},
     "output_type": "execute_result"
    }
   ],
   "source": [
    "f = open('file1.txt', 'r')\n",
    "for i in f.readlines()[-5:]:\n",
    "    print(i)\n",
    "f.close"
   ]
  },
  {
   "cell_type": "markdown",
   "id": "b11ab091",
   "metadata": {},
   "source": [
    "# Task 2 - Create a function for appending data into a file"
   ]
  },
  {
   "cell_type": "code",
   "execution_count": 4,
   "id": "2defca02",
   "metadata": {},
   "outputs": [
    {
     "name": "stdout",
     "output_type": "stream",
     "text": [
      "Enter file name: file1.txt\n",
      "Enter matter into file: Mango\n",
      "Data successfully appended\n",
      "India\n",
      "Asia\n",
      "Europe\n",
      "Paris\n",
      "Spain\n",
      "Rome\n",
      "Tokyo\n",
      "Thailand\n",
      "Bangkok\n",
      "Singapore\n",
      "New York\n",
      "New Orleans\n",
      "Mango\n"
     ]
    }
   ],
   "source": [
    "def insert(file, info):\n",
    "    with open(file, 'a') as f:\n",
    "        f.write(\"\\n\" + info)\n",
    "        print(\"Data successfully appended\")\n",
    "        f.close()\n",
    "    with open(file, 'r') as f:\n",
    "        print(f.read())\n",
    "        f.close()\n",
    "        \n",
    "\n",
    "file = str(input(\"Enter file name: \"))\n",
    "info = str(input(\"Enter matter into file: \"))\n",
    "\n",
    "insert(file, info)"
   ]
  },
  {
   "cell_type": "markdown",
   "id": "ee8c2186",
   "metadata": {},
   "source": [
    "# Task 3 - Create a program for updating a word in the file"
   ]
  },
  {
   "cell_type": "code",
   "execution_count": 5,
   "id": "abc51b03",
   "metadata": {},
   "outputs": [
    {
     "name": "stdout",
     "output_type": "stream",
     "text": [
      "Enter file name: file1.txt\n",
      "Enter the string to be replaced: Mango\n",
      "Enter the second string: Mystic Falls\n"
     ]
    }
   ],
   "source": [
    "import re\n",
    "\n",
    "file = str(input(\"Enter file name: \"))\n",
    "info_1 = str(input(\"Enter the string to be replaced: \"))\n",
    "info_2 = str(input(\"Enter the second string: \"))\n",
    "\n",
    "with open(file, 'r+') as f:\n",
    "    info = f.read()\n",
    "    info = re.sub(info_1, info_2, info)\n",
    "    f.seek(0)\n",
    "    f.write(info)\n",
    "    f.close()"
   ]
  },
  {
   "cell_type": "code",
   "execution_count": 6,
   "id": "c1a2e017",
   "metadata": {},
   "outputs": [
    {
     "name": "stdout",
     "output_type": "stream",
     "text": [
      "India\n",
      "Asia\n",
      "Europe\n",
      "Paris\n",
      "Spain\n",
      "Rome\n",
      "Tokyo\n",
      "Thailand\n",
      "Bangkok\n",
      "Singapore\n",
      "New York\n",
      "New Orleans\n",
      "Mystic Falls\n"
     ]
    }
   ],
   "source": [
    "f = open('file1.txt', 'r')\n",
    "print(f.read())"
   ]
  }
 ],
 "metadata": {
  "kernelspec": {
   "display_name": "Python 3",
   "language": "python",
   "name": "python3"
  },
  "language_info": {
   "codemirror_mode": {
    "name": "ipython",
    "version": 3
   },
   "file_extension": ".py",
   "mimetype": "text/x-python",
   "name": "python",
   "nbconvert_exporter": "python",
   "pygments_lexer": "ipython3",
   "version": "3.8.8"
  }
 },
 "nbformat": 4,
 "nbformat_minor": 5
}
