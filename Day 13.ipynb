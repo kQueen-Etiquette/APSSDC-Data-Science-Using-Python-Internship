{
 "cells": [
  {
   "cell_type": "markdown",
   "id": "8e4984ee",
   "metadata": {},
   "source": [
    "# Day 13"
   ]
  },
  {
   "cell_type": "markdown",
   "id": "7e4a660d",
   "metadata": {},
   "source": [
    "## Create arrays with all the data types available in numpy"
   ]
  },
  {
   "cell_type": "code",
   "execution_count": 9,
   "id": "d66e685e",
   "metadata": {},
   "outputs": [
    {
     "name": "stdout",
     "output_type": "stream",
     "text": [
      "[5 6 7 8]\n",
      "int32\n"
     ]
    }
   ],
   "source": [
    "import numpy as np\n",
    "num = np.array([5, 6, 7, 8], dtype = 'int_')\n",
    "print(num)\n",
    "print(num.dtype)"
   ]
  },
  {
   "cell_type": "code",
   "execution_count": 3,
   "id": "5167dd06",
   "metadata": {},
   "outputs": [
    {
     "name": "stdout",
     "output_type": "stream",
     "text": [
      "[ True False False  True]\n",
      "bool\n"
     ]
    }
   ],
   "source": [
    "num = np.array([True, False, False, True], dtype = 'bool_')\n",
    "print(num)\n",
    "print(num.dtype)"
   ]
  },
  {
   "cell_type": "code",
   "execution_count": 5,
   "id": "e18bf225",
   "metadata": {},
   "outputs": [
    {
     "name": "stdout",
     "output_type": "stream",
     "text": [
      "[9.6 2.1 3.9 4.8]\n",
      "float64\n"
     ]
    }
   ],
   "source": [
    "num = np.array([9.6, 2.1, 3.9, 4.8], dtype = 'float_')\n",
    "print(num)\n",
    "print(num.dtype)"
   ]
  },
  {
   "cell_type": "code",
   "execution_count": 6,
   "id": "749b1ac8",
   "metadata": {},
   "outputs": [
    {
     "name": "stdout",
     "output_type": "stream",
     "text": [
      "[1.+5.j  2.+8.j  6.+9.7j 7.+3.4j]\n",
      "complex128\n"
     ]
    }
   ],
   "source": [
    "num = np.array([1+5j, 2+8j, 6+9.7j, 7+3.4j], dtype = 'complex_')\n",
    "print(num)\n",
    "print(num.dtype)"
   ]
  },
  {
   "cell_type": "code",
   "execution_count": 7,
   "id": "3611dc0c",
   "metadata": {},
   "outputs": [
    {
     "name": "stdout",
     "output_type": "stream",
     "text": [
      "[b'p' b'q' b'r' b's']\n",
      "|S1\n"
     ]
    }
   ],
   "source": [
    "num = np.array(['p', 'q', 'r', 's'], dtype = 'S')\n",
    "print(num)\n",
    "print(num.dtype)"
   ]
  },
  {
   "cell_type": "code",
   "execution_count": 11,
   "id": "76107693",
   "metadata": {},
   "outputs": [
    {
     "name": "stdout",
     "output_type": "stream",
     "text": [
      "[[9 3]\n",
      " [1.8 1.9]\n",
      " ['Damon' 'Elena']]\n",
      "object\n"
     ]
    }
   ],
   "source": [
    "num = np.array([[9, 3], [1.8, 1.9], ['Damon', 'Elena']], dtype = 'O')\n",
    "print(num)\n",
    "print(num.dtype)"
   ]
  },
  {
   "cell_type": "code",
   "execution_count": 12,
   "id": "8a834bab",
   "metadata": {},
   "outputs": [
    {
     "name": "stdout",
     "output_type": "stream",
     "text": [
      "['6' '7' '8' '9']\n",
      "<U1\n"
     ]
    }
   ],
   "source": [
    "num = np.array([6, 7, 8, 9], dtype = 'U')\n",
    "print(num)\n",
    "print(num.dtype)"
   ]
  },
  {
   "cell_type": "code",
   "execution_count": 14,
   "id": "d373942e",
   "metadata": {},
   "outputs": [
    {
     "name": "stdout",
     "output_type": "stream",
     "text": [
      "[1 4 3 6]\n",
      "uint8\n"
     ]
    }
   ],
   "source": [
    "num = np.array([1, 4, 3, 6], dtype = 'uint8')\n",
    "print(num)\n",
    "print(num.dtype)"
   ]
  }
 ],
 "metadata": {
  "kernelspec": {
   "display_name": "Python 3",
   "language": "python",
   "name": "python3"
  },
  "language_info": {
   "codemirror_mode": {
    "name": "ipython",
    "version": 3
   },
   "file_extension": ".py",
   "mimetype": "text/x-python",
   "name": "python",
   "nbconvert_exporter": "python",
   "pygments_lexer": "ipython3",
   "version": "3.8.8"
  }
 },
 "nbformat": 4,
 "nbformat_minor": 5
}
