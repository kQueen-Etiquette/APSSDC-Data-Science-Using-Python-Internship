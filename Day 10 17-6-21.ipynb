{
 "cells": [
  {
   "cell_type": "markdown",
   "id": "1a4c55e1",
   "metadata": {},
   "source": [
    "# Day 10"
   ]
  },
  {
   "cell_type": "markdown",
   "id": "f00720b8",
   "metadata": {},
   "source": [
    "## Task\n",
    "### Generate a 3 digit OTP from 2 different Classes Mail class and Phone class return 6 digit OTP from both Base classes"
   ]
  },
  {
   "cell_type": "code",
   "execution_count": 1,
   "id": "f3bb9bc5",
   "metadata": {},
   "outputs": [],
   "source": [
    "import random\n",
    "\n",
    "class Mail():\n",
    "    s1 = \"\"\n",
    "    def __init__(self):\n",
    "        print(\"OTP generation in the Mail class\")\n",
    "    def otp_1(self):\n",
    "        for i in range(3):\n",
    "            self.s1 = self.s1 + str(random.randint(0, 9))\n",
    "        return self.s1\n",
    "    \n",
    "class Phone():\n",
    "    s2 = \"\"\n",
    "    def __init__(self):\n",
    "        print(\"OTP generation in the Phone class\")\n",
    "    def otp_2(self):\n",
    "        for i in range(3):\n",
    "            self.s2 = self.s2 + str(random.randint(0, 9))\n",
    "        return self.s2\n",
    "    \n",
    "class Otp(Mail, Phone):\n",
    "    s = \"\"\n",
    "    def __init__(self):\n",
    "        Mail.__init__(self)\n",
    "        Phone.__init__(self)\n",
    "        print(\"OTP generation from both classes\")\n",
    "    def otp(self):\n",
    "        self.s = Mail.otp_1(self) + Phone.otp_2(self)\n",
    "        return self.s"
   ]
  },
  {
   "cell_type": "code",
   "execution_count": 2,
   "id": "ae28d053",
   "metadata": {},
   "outputs": [
    {
     "name": "stdout",
     "output_type": "stream",
     "text": [
      "OTP generation in the Mail class\n",
      "OTP generation in the Phone class\n",
      "OTP generation from both classes\n",
      "150397\n"
     ]
    }
   ],
   "source": [
    "obj = Otp()\n",
    "print(obj.otp())"
   ]
  }
 ],
 "metadata": {
  "kernelspec": {
   "display_name": "Python 3",
   "language": "python",
   "name": "python3"
  },
  "language_info": {
   "codemirror_mode": {
    "name": "ipython",
    "version": 3
   },
   "file_extension": ".py",
   "mimetype": "text/x-python",
   "name": "python",
   "nbconvert_exporter": "python",
   "pygments_lexer": "ipython3",
   "version": "3.8.8"
  }
 },
 "nbformat": 4,
 "nbformat_minor": 5
}
