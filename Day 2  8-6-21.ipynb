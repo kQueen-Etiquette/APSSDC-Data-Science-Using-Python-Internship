{
 "cells": [
  {
   "cell_type": "markdown",
   "id": "70146e62",
   "metadata": {},
   "source": [
    "# Day - 2"
   ]
  },
  {
   "cell_type": "markdown",
   "id": "23deb805",
   "metadata": {},
   "source": [
    "## Write a program to check wheather the user is eligible for vote or not"
   ]
  },
  {
   "cell_type": "code",
   "execution_count": 1,
   "id": "1f572f7f",
   "metadata": {},
   "outputs": [
    {
     "name": "stdout",
     "output_type": "stream",
     "text": [
      "12\n",
      "You are not eligible to vote\n"
     ]
    }
   ],
   "source": [
    "age = int(input())\n",
    "if (age >= 18):\n",
    "    print(\"You are eligible to vote\")\n",
    "else:\n",
    "    print(\"You are not eligible to vote\")"
   ]
  },
  {
   "cell_type": "markdown",
   "id": "83182625",
   "metadata": {},
   "source": [
    "## Check the given number is positive or negative"
   ]
  },
  {
   "cell_type": "code",
   "execution_count": 4,
   "id": "505534a0",
   "metadata": {},
   "outputs": [
    {
     "name": "stdout",
     "output_type": "stream",
     "text": [
      "-9\n",
      "Negative\n"
     ]
    }
   ],
   "source": [
    "n = int(input())\n",
    "if (n > 0):\n",
    "    print(\"Positive\")\n",
    "else:\n",
    "    print(\"Negative\")"
   ]
  },
  {
   "cell_type": "markdown",
   "id": "06f7d547",
   "metadata": {},
   "source": [
    "## Check the given number is even or odd. If it's even check whether it is divisible by 4 or not"
   ]
  },
  {
   "cell_type": "code",
   "execution_count": 7,
   "id": "7b4811dc",
   "metadata": {},
   "outputs": [
    {
     "name": "stdout",
     "output_type": "stream",
     "text": [
      "8\n",
      "The given number even and divisible by 4\n"
     ]
    }
   ],
   "source": [
    "n = int(input())\n",
    "if (n % 2 == 0):\n",
    "    if (n % 4 == 0):\n",
    "        print(\"The given number even and divisible by 4\")\n",
    "    else:\n",
    "        print(\"The given number is not divisible by 4\")\n",
    "else:\n",
    "    print(\"The given number is odd\")"
   ]
  },
  {
   "cell_type": "markdown",
   "id": "47e3b017",
   "metadata": {},
   "source": [
    "## Write a program to print student grade based on percentage like distinction,pass or fail"
   ]
  },
  {
   "cell_type": "code",
   "execution_count": 11,
   "id": "428e8833",
   "metadata": {},
   "outputs": [
    {
     "name": "stdout",
     "output_type": "stream",
     "text": [
      "92.8\n",
      "Distinction\n"
     ]
    }
   ],
   "source": [
    "percentage = float(input())\n",
    "if (percentage >= 90):\n",
    "    print(\"Distinction\")\n",
    "elif (percentage > 40 and percentage < 90):\n",
    "    print(\"Pass\")\n",
    "else:\n",
    "    print(\"Fail\")"
   ]
  },
  {
   "cell_type": "markdown",
   "id": "e0a3333c",
   "metadata": {},
   "source": [
    "## Check the given year is a leap year or not"
   ]
  },
  {
   "cell_type": "code",
   "execution_count": 15,
   "id": "b22d7d0a",
   "metadata": {},
   "outputs": [
    {
     "name": "stdout",
     "output_type": "stream",
     "text": [
      "2002\n",
      "It is not a leap year\n"
     ]
    }
   ],
   "source": [
    "year = int(input())\n",
    "if (year % 4 == 0):\n",
    "    if (year % 100 == 0):\n",
    "        if (year % 400 == 0):\n",
    "            print(\"It is a leap year\")\n",
    "        else:\n",
    "            print(\"It is not a leap year\")\n",
    "    else:\n",
    "        print(\"It is a leap year\")\n",
    "else:\n",
    "    print(\"It is not a leap year\")"
   ]
  }
 ],
 "metadata": {
  "kernelspec": {
   "display_name": "Python 3",
   "language": "python",
   "name": "python3"
  },
  "language_info": {
   "codemirror_mode": {
    "name": "ipython",
    "version": 3
   },
   "file_extension": ".py",
   "mimetype": "text/x-python",
   "name": "python",
   "nbconvert_exporter": "python",
   "pygments_lexer": "ipython3",
   "version": "3.7.6"
  }
 },
 "nbformat": 4,
 "nbformat_minor": 5
}
