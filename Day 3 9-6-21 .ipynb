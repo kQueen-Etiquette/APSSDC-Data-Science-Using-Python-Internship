{
 "cells": [
  {
   "cell_type": "markdown",
   "id": "bdad54fe",
   "metadata": {},
   "source": [
    "# Day 3"
   ]
  },
  {
   "cell_type": "code",
   "execution_count": 1,
   "id": "c6bb5db9",
   "metadata": {},
   "outputs": [
    {
     "name": "stdout",
     "output_type": "stream",
     "text": [
      "Enter your registration number: AP19110010076\n",
      "Not an SRM Student\n"
     ]
    }
   ],
   "source": [
    "number = str(input(\"Enter your registration number: \"))\n",
    "if number[-3:].startswith('01'): \n",
    "    print(\"CSE Department\")\n",
    "elif number[-3:].startswith('11'): \n",
    "    print(\"IT Department\")\n",
    "elif number[-3:].startswith('21'): \n",
    "    print(\"ECE Department\")\n",
    "else: \n",
    "    print(\"Not an SRM Student\")"
   ]
  },
  {
   "cell_type": "code",
   "execution_count": 2,
   "id": "f0744d2f",
   "metadata": {},
   "outputs": [
    {
     "name": "stdout",
     "output_type": "stream",
     "text": [
      "Enter your registration number: AP19110012016\n",
      "CSE Department\n"
     ]
    }
   ],
   "source": [
    "number = str(input(\"Enter your registration number: \"))\n",
    "if number[-3:].startswith('01'): \n",
    "    print(\"CSE Department\")\n",
    "elif number[-3:].startswith('11'): \n",
    "    print(\"IT Department\")\n",
    "elif number[-3:].startswith('21'): \n",
    "    print(\"ECE Department\")\n",
    "else: \n",
    "    print(\"Not an SRM Student\")"
   ]
  },
  {
   "cell_type": "code",
   "execution_count": 3,
   "id": "4d54cf2b",
   "metadata": {},
   "outputs": [
    {
     "name": "stdout",
     "output_type": "stream",
     "text": [
      "Enter your registration number: AP19110010116\n",
      "IT Department\n"
     ]
    }
   ],
   "source": [
    "number = str(input(\"Enter your registration number: \"))\n",
    "if number[-3:].startswith('01'): \n",
    "    print(\"CSE Department\")\n",
    "elif number[-3:].startswith('11'): \n",
    "    print(\"IT Department\")\n",
    "elif number[-3:].startswith('21'): \n",
    "    print(\"ECE Department\")\n",
    "else: \n",
    "    print(\"Not an SRM Student\")"
   ]
  },
  {
   "cell_type": "code",
   "execution_count": 4,
   "id": "e880e2de",
   "metadata": {},
   "outputs": [
    {
     "name": "stdout",
     "output_type": "stream",
     "text": [
      "Enter your registration number: AP19110010216\n",
      "ECE Department\n"
     ]
    }
   ],
   "source": [
    "number = str(input(\"Enter your registration number: \"))\n",
    "if number[-3:].startswith('01'): \n",
    "    print(\"CSE Department\")\n",
    "elif number[-3:].startswith('11'): \n",
    "    print(\"IT Department\")\n",
    "elif number[-3:].startswith('21'): \n",
    "    print(\"ECE Department\")\n",
    "else: \n",
    "    print(\"Not an SRM Student\")"
   ]
  }
 ],
 "metadata": {
  "kernelspec": {
   "display_name": "Python 3",
   "language": "python",
   "name": "python3"
  },
  "language_info": {
   "codemirror_mode": {
    "name": "ipython",
    "version": 3
   },
   "file_extension": ".py",
   "mimetype": "text/x-python",
   "name": "python",
   "nbconvert_exporter": "python",
   "pygments_lexer": "ipython3",
   "version": "3.7.6"
  }
 },
 "nbformat": 4,
 "nbformat_minor": 5
}
