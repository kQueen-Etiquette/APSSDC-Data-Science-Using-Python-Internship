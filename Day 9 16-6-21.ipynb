{
 "cells": [
  {
   "cell_type": "markdown",
   "id": "c62c890d",
   "metadata": {},
   "source": [
    "# Day 9"
   ]
  },
  {
   "cell_type": "markdown",
   "id": "03a4b946",
   "metadata": {},
   "source": [
    "## Task\n",
    "- write a program in module\n",
    "- ask the user to enter the data\n",
    "- check the data if it's camelcase print Like (Thumbsup)emoji\n",
    "- else convert the data into camelcase then speakout Successfully converted your data into camel case"
   ]
  },
  {
   "cell_type": "code",
   "execution_count": 1,
   "id": "637ebdc4",
   "metadata": {},
   "outputs": [],
   "source": [
    "import camelcase\n",
    "import pyttsx3\n",
    "import emoji"
   ]
  },
  {
   "cell_type": "code",
   "execution_count": 2,
   "id": "2ac04e81",
   "metadata": {},
   "outputs": [
    {
     "name": "stdout",
     "output_type": "stream",
     "text": [
      "Enter your data: SRM University AP\n"
     ]
    }
   ],
   "source": [
    "inp = str(input(\"Enter your data: \"))"
   ]
  },
  {
   "cell_type": "code",
   "execution_count": 3,
   "id": "e8e4fe71",
   "metadata": {},
   "outputs": [
    {
     "name": "stdout",
     "output_type": "stream",
     "text": [
      "👍\n"
     ]
    }
   ],
   "source": [
    "x = camelcase.CamelCase()\n",
    "if x.hump(inp) == inp:\n",
    "    print(emoji.emojize(\":thumbsup:\", use_aliases=True))\n",
    "else:\n",
    "    print(x.hump(inp))\n",
    "    spk=pyttsx3.init()\n",
    "    spk.say(\"Successfully converted your data into camel case\")\n",
    "    spk.runAndWait()"
   ]
  }
 ],
 "metadata": {
  "kernelspec": {
   "display_name": "Python 3",
   "language": "python",
   "name": "python3"
  },
  "language_info": {
   "codemirror_mode": {
    "name": "ipython",
    "version": 3
   },
   "file_extension": ".py",
   "mimetype": "text/x-python",
   "name": "python",
   "nbconvert_exporter": "python",
   "pygments_lexer": "ipython3",
   "version": "3.8.8"
  }
 },
 "nbformat": 4,
 "nbformat_minor": 5
}
