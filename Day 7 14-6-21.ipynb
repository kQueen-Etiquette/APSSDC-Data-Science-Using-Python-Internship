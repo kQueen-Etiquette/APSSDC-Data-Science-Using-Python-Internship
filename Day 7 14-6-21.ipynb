{
 "cells": [
  {
   "cell_type": "markdown",
   "id": "e5c66716",
   "metadata": {},
   "source": [
    "# Day 7"
   ]
  },
  {
   "cell_type": "markdown",
   "id": "6c6f5020",
   "metadata": {},
   "source": [
    "## Task 1: Write a pattern to display 4 digit numbers from list1\n",
    "list1 = [5841, 987654321, 453267, 1234, 675, 8797]\n"
   ]
  },
  {
   "cell_type": "code",
   "execution_count": 1,
   "id": "1887ece9",
   "metadata": {},
   "outputs": [],
   "source": [
    "import re"
   ]
  },
  {
   "cell_type": "code",
   "execution_count": 2,
   "id": "7f812ae2",
   "metadata": {},
   "outputs": [
    {
     "name": "stdout",
     "output_type": "stream",
     "text": [
      "5841\n",
      "1234\n",
      "8797\n",
      "7890\n",
      "1436\n"
     ]
    }
   ],
   "source": [
    "list1 = ['5841', '987654321', '453267', '1234', '675', '8797', '7890', '1436']\n",
    "for i in list1:\n",
    "    if re.findall('^[0-9]{4}$', i):\n",
    "        print(i)"
   ]
  },
  {
   "cell_type": "markdown",
   "id": "8690cf94",
   "metadata": {},
   "source": [
    "## Task 2: Validate a phone number using patterns. Try to do this task using below pattern or your own pattern\n",
    "ph_list = [9876543210, 8123456789, 7890123456, 789654, 1234567890]"
   ]
  },
  {
   "cell_type": "code",
   "execution_count": 3,
   "id": "58ed9bb3",
   "metadata": {},
   "outputs": [
    {
     "name": "stdout",
     "output_type": "stream",
     "text": [
      "9876543210\n",
      "8123456789\n",
      "7890123456\n"
     ]
    }
   ],
   "source": [
    "ph_list = ['9876543210', '8123456789', '7890123456', '789654', '1234567890']\n",
    "for i in ph_list:\n",
    "    if re.findall('^[6-9]{1}[0-9]{9}$', i):\n",
    "        print(i)"
   ]
  }
 ],
 "metadata": {
  "kernelspec": {
   "display_name": "Python 3",
   "language": "python",
   "name": "python3"
  },
  "language_info": {
   "codemirror_mode": {
    "name": "ipython",
    "version": 3
   },
   "file_extension": ".py",
   "mimetype": "text/x-python",
   "name": "python",
   "nbconvert_exporter": "python",
   "pygments_lexer": "ipython3",
   "version": "3.7.6"
  }
 },
 "nbformat": 4,
 "nbformat_minor": 5
}
