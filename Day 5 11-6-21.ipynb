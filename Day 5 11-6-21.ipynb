{
 "cells": [
  {
   "cell_type": "markdown",
   "id": "82f5a3f5",
   "metadata": {},
   "source": [
    "# Day 5"
   ]
  },
  {
   "cell_type": "markdown",
   "id": "1634800e",
   "metadata": {},
   "source": [
    "## Task\n",
    "### Write a python program that takes two lists and returns true if they have atleast one common member."
   ]
  },
  {
   "cell_type": "code",
   "execution_count": 3,
   "id": "89f40861",
   "metadata": {},
   "outputs": [
    {
     "name": "stdout",
     "output_type": "stream",
     "text": [
      "p q r s\n",
      "s t u v\n",
      "True\n"
     ]
    }
   ],
   "source": [
    "l1 = list(input().split())\n",
    "l2 = list(input().split())\n",
    "ans = False\n",
    "for i in l1:\n",
    "    if i in l2:\n",
    "        ans = True\n",
    "        break\n",
    "print(ans)"
   ]
  },
  {
   "cell_type": "code",
   "execution_count": 4,
   "id": "3e194991",
   "metadata": {},
   "outputs": [
    {
     "name": "stdout",
     "output_type": "stream",
     "text": [
      "a b c\n",
      "d e f\n",
      "False\n"
     ]
    }
   ],
   "source": [
    "l1 = list(input().split())\n",
    "l2 = list(input().split())\n",
    "ans = False\n",
    "for i in l1:\n",
    "    if i in l2:\n",
    "        ans = True\n",
    "        break\n",
    "print(ans)"
   ]
  }
 ],
 "metadata": {
  "kernelspec": {
   "display_name": "Python 3",
   "language": "python",
   "name": "python3"
  },
  "language_info": {
   "codemirror_mode": {
    "name": "ipython",
    "version": 3
   },
   "file_extension": ".py",
   "mimetype": "text/x-python",
   "name": "python",
   "nbconvert_exporter": "python",
   "pygments_lexer": "ipython3",
   "version": "3.7.6"
  }
 },
 "nbformat": 4,
 "nbformat_minor": 5
}
